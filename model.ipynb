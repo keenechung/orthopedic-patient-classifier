{
 "cells": [
  {
   "cell_type": "markdown",
   "id": "b63e7f05",
   "metadata": {},
   "source": [
    "<hr>\n",
    "\n",
    "## TABLE OF CONTENTS\n",
    "\n",
    "1. [Packages](##1.-PACKAGES)\n",
    "\n",
    "2. [Datasets](##2.-DATASETS)\n",
    "\n",
    "3. [Analysis & Visualization](##3.-ANALYSIS-&-VISUALIZATION)\n",
    "\n",
    "4. [Preprocessing & Pipeline](##4.-PREPROCESSING-&-PIPELINE)\n",
    "\n",
    "5. [Model Prediction & Evaluation](##5.-MODEL-PREDICTION-&-EVALUATION)\n",
    "\n",
    "6. [Model Comparison](##6.-MODEL-COMPARISON)\n",
    "\n",
    "7. [Conclusion](##7.-CONCLUSION)"
   ]
  },
  {
   "cell_type": "markdown",
   "id": "2f6dfbf4",
   "metadata": {},
   "source": [
    "<hr>\n",
    "\n",
    "## 1. PACKAGES"
   ]
  },
  {
   "cell_type": "markdown",
   "id": "9092b0a1",
   "metadata": {},
   "source": [
    "### Essential Libraries"
   ]
  },
  {
   "cell_type": "code",
   "execution_count": 33,
   "id": "6bde9676",
   "metadata": {},
   "outputs": [],
   "source": [
    "import pandas as pd\n",
    "import numpy as np\n",
    "import matplotlib.pyplot as plt\n",
    "import seaborn as sns"
   ]
  },
  {
   "cell_type": "markdown",
   "id": "5675e771",
   "metadata": {},
   "source": [
    "### Machine Learning Libraries"
   ]
  },
  {
   "cell_type": "code",
   "execution_count": 34,
   "id": "1b1e3432",
   "metadata": {},
   "outputs": [],
   "source": [
    "# data pipeline:\n",
    "from sklearn.base import clone\n",
    "from sklearn.pipeline import Pipeline\n",
    "from sklearn.compose import ColumnTransformer\n",
    "\n",
    "# preprocessing:\n",
    "from sklearn.preprocessing import StandardScaler\n",
    "from sklearn.preprocessing import MinMaxScaler\n",
    "from sklearn.preprocessing import RobustScaler\n",
    "from sklearn.preprocessing import OneHotEncoder\n",
    "from sklearn.preprocessing import LabelEncoder\n",
    "\n",
    "# model selection:\n",
    "from sklearn.model_selection import train_test_split\n",
    "from sklearn.model_selection import GridSearchCV\n",
    "from sklearn.model_selection import RandomizedSearchCV\n",
    "\n",
    "# models:\n",
    "from sklearn.tree import DecisionTreeClassifier\n",
    "from sklearn.naive_bayes import GaussianNB\n",
    "from sklearn.ensemble import RandomForestClassifier\n",
    "\n",
    "# metrics:\n",
    "from sklearn.metrics import accuracy_score, precision_score, recall_score, f1_score\n",
    "from sklearn.metrics import roc_auc_score, roc_curve, mean_squared_error\n",
    "from sklearn.metrics import classification_report, confusion_matrix, ConfusionMatrixDisplay"
   ]
  },
  {
   "cell_type": "markdown",
   "id": "a13c670e",
   "metadata": {},
   "source": [
    "<hr>\n",
    "\n",
    "## 2. DATASETS"
   ]
  },
  {
   "cell_type": "markdown",
   "id": "a3577131",
   "metadata": {},
   "source": [
    "### Read CSV Files"
   ]
  },
  {
   "cell_type": "code",
   "execution_count": 35,
   "id": "881deb3c",
   "metadata": {},
   "outputs": [],
   "source": [
    "df_2C = pd.read_csv('datasets/orthopedic_2C.csv')\n",
    "df_3C = pd.read_csv('datasets/orthopedic_3C.csv')"
   ]
  },
  {
   "cell_type": "code",
   "execution_count": 36,
   "id": "ae97fb84",
   "metadata": {},
   "outputs": [
    {
     "name": "stdout",
     "output_type": "stream",
     "text": [
      "(310, 7)\n",
      "(310, 7)\n"
     ]
    }
   ],
   "source": [
    "print(df_2C.shape)\n",
    "print(df_3C.shape)"
   ]
  },
  {
   "cell_type": "code",
   "execution_count": 37,
   "id": "e2f1ab33",
   "metadata": {},
   "outputs": [
    {
     "data": {
      "text/html": [
       "<div>\n",
       "<style scoped>\n",
       "    .dataframe tbody tr th:only-of-type {\n",
       "        vertical-align: middle;\n",
       "    }\n",
       "\n",
       "    .dataframe tbody tr th {\n",
       "        vertical-align: top;\n",
       "    }\n",
       "\n",
       "    .dataframe thead th {\n",
       "        text-align: right;\n",
       "    }\n",
       "</style>\n",
       "<table border=\"1\" class=\"dataframe\">\n",
       "  <thead>\n",
       "    <tr style=\"text-align: right;\">\n",
       "      <th></th>\n",
       "      <th>pelvic_incidence</th>\n",
       "      <th>pelvic_tilt</th>\n",
       "      <th>lumbar_lordosis_angle</th>\n",
       "      <th>sacral_slope</th>\n",
       "      <th>pelvic_radius</th>\n",
       "      <th>degree_spondylolisthesis</th>\n",
       "    </tr>\n",
       "  </thead>\n",
       "  <tbody>\n",
       "    <tr>\n",
       "      <th>0</th>\n",
       "      <td>63.027817</td>\n",
       "      <td>22.552586</td>\n",
       "      <td>39.609117</td>\n",
       "      <td>40.475232</td>\n",
       "      <td>98.672917</td>\n",
       "      <td>-0.254400</td>\n",
       "    </tr>\n",
       "    <tr>\n",
       "      <th>1</th>\n",
       "      <td>39.056951</td>\n",
       "      <td>10.060991</td>\n",
       "      <td>25.015378</td>\n",
       "      <td>28.995960</td>\n",
       "      <td>114.405425</td>\n",
       "      <td>4.564259</td>\n",
       "    </tr>\n",
       "    <tr>\n",
       "      <th>2</th>\n",
       "      <td>68.832021</td>\n",
       "      <td>22.218482</td>\n",
       "      <td>50.092194</td>\n",
       "      <td>46.613539</td>\n",
       "      <td>105.985135</td>\n",
       "      <td>-3.530317</td>\n",
       "    </tr>\n",
       "    <tr>\n",
       "      <th>3</th>\n",
       "      <td>69.297008</td>\n",
       "      <td>24.652878</td>\n",
       "      <td>44.311238</td>\n",
       "      <td>44.644130</td>\n",
       "      <td>101.868495</td>\n",
       "      <td>11.211523</td>\n",
       "    </tr>\n",
       "    <tr>\n",
       "      <th>4</th>\n",
       "      <td>49.712859</td>\n",
       "      <td>9.652075</td>\n",
       "      <td>28.317406</td>\n",
       "      <td>40.060784</td>\n",
       "      <td>108.168725</td>\n",
       "      <td>7.918501</td>\n",
       "    </tr>\n",
       "    <tr>\n",
       "      <th>5</th>\n",
       "      <td>40.250200</td>\n",
       "      <td>13.921907</td>\n",
       "      <td>25.124950</td>\n",
       "      <td>26.328293</td>\n",
       "      <td>130.327871</td>\n",
       "      <td>2.230652</td>\n",
       "    </tr>\n",
       "    <tr>\n",
       "      <th>6</th>\n",
       "      <td>53.432928</td>\n",
       "      <td>15.864336</td>\n",
       "      <td>37.165934</td>\n",
       "      <td>37.568592</td>\n",
       "      <td>120.567523</td>\n",
       "      <td>5.988551</td>\n",
       "    </tr>\n",
       "    <tr>\n",
       "      <th>7</th>\n",
       "      <td>45.366754</td>\n",
       "      <td>10.755611</td>\n",
       "      <td>29.038349</td>\n",
       "      <td>34.611142</td>\n",
       "      <td>117.270067</td>\n",
       "      <td>-10.675871</td>\n",
       "    </tr>\n",
       "    <tr>\n",
       "      <th>8</th>\n",
       "      <td>43.790190</td>\n",
       "      <td>13.533753</td>\n",
       "      <td>42.690814</td>\n",
       "      <td>30.256437</td>\n",
       "      <td>125.002893</td>\n",
       "      <td>13.289018</td>\n",
       "    </tr>\n",
       "    <tr>\n",
       "      <th>9</th>\n",
       "      <td>36.686353</td>\n",
       "      <td>5.010884</td>\n",
       "      <td>41.948751</td>\n",
       "      <td>31.675469</td>\n",
       "      <td>84.241415</td>\n",
       "      <td>0.664437</td>\n",
       "    </tr>\n",
       "  </tbody>\n",
       "</table>\n",
       "</div>"
      ],
      "text/plain": [
       "   pelvic_incidence  pelvic_tilt  lumbar_lordosis_angle  sacral_slope  \\\n",
       "0         63.027817    22.552586              39.609117     40.475232   \n",
       "1         39.056951    10.060991              25.015378     28.995960   \n",
       "2         68.832021    22.218482              50.092194     46.613539   \n",
       "3         69.297008    24.652878              44.311238     44.644130   \n",
       "4         49.712859     9.652075              28.317406     40.060784   \n",
       "5         40.250200    13.921907              25.124950     26.328293   \n",
       "6         53.432928    15.864336              37.165934     37.568592   \n",
       "7         45.366754    10.755611              29.038349     34.611142   \n",
       "8         43.790190    13.533753              42.690814     30.256437   \n",
       "9         36.686353     5.010884              41.948751     31.675469   \n",
       "\n",
       "   pelvic_radius  degree_spondylolisthesis  \n",
       "0      98.672917                 -0.254400  \n",
       "1     114.405425                  4.564259  \n",
       "2     105.985135                 -3.530317  \n",
       "3     101.868495                 11.211523  \n",
       "4     108.168725                  7.918501  \n",
       "5     130.327871                  2.230652  \n",
       "6     120.567523                  5.988551  \n",
       "7     117.270067                -10.675871  \n",
       "8     125.002893                 13.289018  \n",
       "9      84.241415                  0.664437  "
      ]
     },
     "metadata": {},
     "output_type": "display_data"
    }
   ],
   "source": [
    "# 2 dfs should have the same data structure and values:\n",
    "if df_2C.iloc[:, :6].equals(df_3C.iloc[:, :6]):\n",
    "    # Display the first 10 rows and 6 columns of df_2c\n",
    "    display(df_2C.iloc[:10, :6])"
   ]
  },
  {
   "cell_type": "code",
   "execution_count": 38,
   "id": "17fd9487",
   "metadata": {},
   "outputs": [
    {
     "name": "stdout",
     "output_type": "stream",
     "text": [
      "['Abnormal' 'Normal']\n",
      "['Hernia' 'Spondylolisthesis' 'Normal']\n"
     ]
    }
   ],
   "source": [
    "print(df_2C['class'].unique())\n",
    "print(df_3C['class'].unique())"
   ]
  },
  {
   "cell_type": "markdown",
   "id": "69f333ad",
   "metadata": {},
   "source": [
    "<hr>\n",
    "\n",
    "## 3. ANALYSIS & VISUALIZATION"
   ]
  },
  {
   "cell_type": "markdown",
   "id": "ec37705e",
   "metadata": {},
   "source": [
    "### Class Distribution"
   ]
  },
  {
   "cell_type": "markdown",
   "id": "5f24b17d",
   "metadata": {},
   "source": [
    "#### df_2C"
   ]
  },
  {
   "cell_type": "code",
   "execution_count": 39,
   "id": "d782e87d",
   "metadata": {},
   "outputs": [
    {
     "data": {
      "text/html": [
       "<style type=\"text/css\">\n",
       "</style>\n",
       "<table id=\"T_83655\">\n",
       "  <thead>\n",
       "    <tr>\n",
       "      <th id=\"T_83655_level0_col0\" class=\"col_heading level0 col0\" >Class</th>\n",
       "      <th id=\"T_83655_level0_col1\" class=\"col_heading level0 col1\" >Count</th>\n",
       "      <th id=\"T_83655_level0_col2\" class=\"col_heading level0 col2\" >Percentage (%)</th>\n",
       "    </tr>\n",
       "  </thead>\n",
       "  <tbody>\n",
       "    <tr>\n",
       "      <td id=\"T_83655_row0_col0\" class=\"data row0 col0\" >Normal</td>\n",
       "      <td id=\"T_83655_row0_col1\" class=\"data row0 col1\" >100</td>\n",
       "      <td id=\"T_83655_row0_col2\" class=\"data row0 col2\" >32.260000</td>\n",
       "    </tr>\n",
       "    <tr>\n",
       "      <td id=\"T_83655_row1_col0\" class=\"data row1 col0\" >Abnormal</td>\n",
       "      <td id=\"T_83655_row1_col1\" class=\"data row1 col1\" >210</td>\n",
       "      <td id=\"T_83655_row1_col2\" class=\"data row1 col2\" >67.740000</td>\n",
       "    </tr>\n",
       "  </tbody>\n",
       "</table>\n"
      ],
      "text/plain": [
       "<pandas.io.formats.style.Styler at 0x16cd358b0>"
      ]
     },
     "metadata": {},
     "output_type": "display_data"
    }
   ],
   "source": [
    "distribution_2C = pd.DataFrame({\n",
    "    'Class': df_2C['class'].value_counts().index,\n",
    "    'Count': df_2C['class'].value_counts().values,\n",
    "    'Percentage (%)': round(df_2C['class'].value_counts(normalize=True)*100,2)\n",
    "}).reindex(['Normal', 'Abnormal'])\n",
    "\n",
    "distribution_2C = distribution_2C.reset_index(drop=True)\n",
    "\n",
    "display(distribution_2C.style.hide(axis=\"index\"))"
   ]
  },
  {
   "cell_type": "markdown",
   "id": "9ebb9741",
   "metadata": {},
   "source": [
    "#### df_3C"
   ]
  },
  {
   "cell_type": "code",
   "execution_count": 40,
   "id": "f3fff52c",
   "metadata": {},
   "outputs": [
    {
     "data": {
      "text/html": [
       "<style type=\"text/css\">\n",
       "</style>\n",
       "<table id=\"T_1e614\">\n",
       "  <thead>\n",
       "    <tr>\n",
       "      <th id=\"T_1e614_level0_col0\" class=\"col_heading level0 col0\" >Class</th>\n",
       "      <th id=\"T_1e614_level0_col1\" class=\"col_heading level0 col1\" >Count</th>\n",
       "      <th id=\"T_1e614_level0_col2\" class=\"col_heading level0 col2\" >Percentage (%)</th>\n",
       "    </tr>\n",
       "  </thead>\n",
       "  <tbody>\n",
       "    <tr>\n",
       "      <td id=\"T_1e614_row0_col0\" class=\"data row0 col0\" >Normal</td>\n",
       "      <td id=\"T_1e614_row0_col1\" class=\"data row0 col1\" >100</td>\n",
       "      <td id=\"T_1e614_row0_col2\" class=\"data row0 col2\" >32.260000</td>\n",
       "    </tr>\n",
       "    <tr>\n",
       "      <td id=\"T_1e614_row1_col0\" class=\"data row1 col0\" >Hernia</td>\n",
       "      <td id=\"T_1e614_row1_col1\" class=\"data row1 col1\" >60</td>\n",
       "      <td id=\"T_1e614_row1_col2\" class=\"data row1 col2\" >19.350000</td>\n",
       "    </tr>\n",
       "    <tr>\n",
       "      <td id=\"T_1e614_row2_col0\" class=\"data row2 col0\" >Spondylolisthesis</td>\n",
       "      <td id=\"T_1e614_row2_col1\" class=\"data row2 col1\" >150</td>\n",
       "      <td id=\"T_1e614_row2_col2\" class=\"data row2 col2\" >48.390000</td>\n",
       "    </tr>\n",
       "  </tbody>\n",
       "</table>\n"
      ],
      "text/plain": [
       "<pandas.io.formats.style.Styler at 0x16cfaa2e0>"
      ]
     },
     "metadata": {},
     "output_type": "display_data"
    }
   ],
   "source": [
    "distribution_3C = pd.DataFrame({\n",
    "    'Class': df_3C['class'].value_counts().index,\n",
    "    'Count': df_3C['class'].value_counts().values,\n",
    "    'Percentage (%)': round(df_3C['class'].value_counts(normalize=True)*100,2)\n",
    "}).reindex(['Normal', 'Hernia', 'Spondylolisthesis'])\n",
    "\n",
    "distribution_3C = distribution_3C.reset_index(drop=True)\n",
    "\n",
    "display(distribution_3C.style.hide(axis=\"index\"))"
   ]
  },
  {
   "cell_type": "markdown",
   "id": "5e7718f8",
   "metadata": {},
   "source": [
    "### Missing Values"
   ]
  },
  {
   "cell_type": "code",
   "execution_count": 41,
   "id": "ae5012fd",
   "metadata": {},
   "outputs": [
    {
     "data": {
      "text/plain": [
       "pelvic_incidence            0\n",
       "pelvic_tilt                 0\n",
       "lumbar_lordosis_angle       0\n",
       "sacral_slope                0\n",
       "pelvic_radius               0\n",
       "degree_spondylolisthesis    0\n",
       "class                       0\n",
       "dtype: int64"
      ]
     },
     "metadata": {},
     "output_type": "display_data"
    },
    {
     "data": {
      "text/plain": [
       "pelvic_incidence            0\n",
       "pelvic_tilt                 0\n",
       "lumbar_lordosis_angle       0\n",
       "sacral_slope                0\n",
       "pelvic_radius               0\n",
       "degree_spondylolisthesis    0\n",
       "class                       0\n",
       "dtype: int64"
      ]
     },
     "metadata": {},
     "output_type": "display_data"
    }
   ],
   "source": [
    "display(df_2C.isnull().sum())\n",
    "display(df_3C.isnull().sum())"
   ]
  },
  {
   "cell_type": "markdown",
   "id": "8f26ebdc",
   "metadata": {},
   "source": [
    "### Statistics"
   ]
  },
  {
   "cell_type": "code",
   "execution_count": 42,
   "id": "9c099cdc",
   "metadata": {},
   "outputs": [
    {
     "data": {
      "text/html": [
       "<div>\n",
       "<style scoped>\n",
       "    .dataframe tbody tr th:only-of-type {\n",
       "        vertical-align: middle;\n",
       "    }\n",
       "\n",
       "    .dataframe tbody tr th {\n",
       "        vertical-align: top;\n",
       "    }\n",
       "\n",
       "    .dataframe thead th {\n",
       "        text-align: right;\n",
       "    }\n",
       "</style>\n",
       "<table border=\"1\" class=\"dataframe\">\n",
       "  <thead>\n",
       "    <tr style=\"text-align: right;\">\n",
       "      <th></th>\n",
       "      <th>pelvic_incidence</th>\n",
       "      <th>pelvic_tilt</th>\n",
       "      <th>lumbar_lordosis_angle</th>\n",
       "      <th>sacral_slope</th>\n",
       "      <th>pelvic_radius</th>\n",
       "      <th>degree_spondylolisthesis</th>\n",
       "    </tr>\n",
       "  </thead>\n",
       "  <tbody>\n",
       "    <tr>\n",
       "      <th>count</th>\n",
       "      <td>310.000000</td>\n",
       "      <td>310.000000</td>\n",
       "      <td>310.000000</td>\n",
       "      <td>310.000000</td>\n",
       "      <td>310.000000</td>\n",
       "      <td>310.000000</td>\n",
       "    </tr>\n",
       "    <tr>\n",
       "      <th>mean</th>\n",
       "      <td>60.496653</td>\n",
       "      <td>17.542822</td>\n",
       "      <td>51.930930</td>\n",
       "      <td>42.953831</td>\n",
       "      <td>117.920655</td>\n",
       "      <td>26.296694</td>\n",
       "    </tr>\n",
       "    <tr>\n",
       "      <th>std</th>\n",
       "      <td>17.236520</td>\n",
       "      <td>10.008330</td>\n",
       "      <td>18.554064</td>\n",
       "      <td>13.423102</td>\n",
       "      <td>13.317377</td>\n",
       "      <td>37.559027</td>\n",
       "    </tr>\n",
       "    <tr>\n",
       "      <th>min</th>\n",
       "      <td>26.147921</td>\n",
       "      <td>-6.554948</td>\n",
       "      <td>14.000000</td>\n",
       "      <td>13.366931</td>\n",
       "      <td>70.082575</td>\n",
       "      <td>-11.058179</td>\n",
       "    </tr>\n",
       "    <tr>\n",
       "      <th>25%</th>\n",
       "      <td>46.430294</td>\n",
       "      <td>10.667069</td>\n",
       "      <td>37.000000</td>\n",
       "      <td>33.347122</td>\n",
       "      <td>110.709196</td>\n",
       "      <td>1.603727</td>\n",
       "    </tr>\n",
       "    <tr>\n",
       "      <th>50%</th>\n",
       "      <td>58.691038</td>\n",
       "      <td>16.357689</td>\n",
       "      <td>49.562398</td>\n",
       "      <td>42.404912</td>\n",
       "      <td>118.268178</td>\n",
       "      <td>11.767934</td>\n",
       "    </tr>\n",
       "    <tr>\n",
       "      <th>75%</th>\n",
       "      <td>72.877696</td>\n",
       "      <td>22.120395</td>\n",
       "      <td>63.000000</td>\n",
       "      <td>52.695888</td>\n",
       "      <td>125.467674</td>\n",
       "      <td>41.287352</td>\n",
       "    </tr>\n",
       "    <tr>\n",
       "      <th>max</th>\n",
       "      <td>129.834041</td>\n",
       "      <td>49.431864</td>\n",
       "      <td>125.742385</td>\n",
       "      <td>121.429566</td>\n",
       "      <td>163.071041</td>\n",
       "      <td>418.543082</td>\n",
       "    </tr>\n",
       "  </tbody>\n",
       "</table>\n",
       "</div>"
      ],
      "text/plain": [
       "       pelvic_incidence  pelvic_tilt  lumbar_lordosis_angle  sacral_slope  \\\n",
       "count        310.000000   310.000000             310.000000    310.000000   \n",
       "mean          60.496653    17.542822              51.930930     42.953831   \n",
       "std           17.236520    10.008330              18.554064     13.423102   \n",
       "min           26.147921    -6.554948              14.000000     13.366931   \n",
       "25%           46.430294    10.667069              37.000000     33.347122   \n",
       "50%           58.691038    16.357689              49.562398     42.404912   \n",
       "75%           72.877696    22.120395              63.000000     52.695888   \n",
       "max          129.834041    49.431864             125.742385    121.429566   \n",
       "\n",
       "       pelvic_radius  degree_spondylolisthesis  \n",
       "count     310.000000                310.000000  \n",
       "mean      117.920655                 26.296694  \n",
       "std        13.317377                 37.559027  \n",
       "min        70.082575                -11.058179  \n",
       "25%       110.709196                  1.603727  \n",
       "50%       118.268178                 11.767934  \n",
       "75%       125.467674                 41.287352  \n",
       "max       163.071041                418.543082  "
      ]
     },
     "metadata": {},
     "output_type": "display_data"
    },
    {
     "data": {
      "image/png": "[encoded data removed]",
      "text/plain": [
       "<Figure size 700x500 with 1 Axes>"
      ]
     },
     "metadata": {},
     "output_type": "display_data"
    }
   ],
   "source": [
    "display(df_2C.describe())\n",
    "\n",
    "plt.figure(figsize=(7, 5))\n",
    "ax = sns.boxplot(data=df_2C)\n",
    "plt.title(\"Boxplot of Numerical Features\")\n",
    "\n",
    "plt.xlabel(\"Features\")\n",
    "original_labels = df_2C.columns[:6]\n",
    "wrapped_labels = [label.replace('_', '\\n') for label in original_labels]\n",
    "ax.set_xticks(range(len(wrapped_labels)))\n",
    "ax.set_xticklabels(wrapped_labels)\n",
    "\n",
    "plt.ylabel(\"Value\")\n",
    "plt.yticks(range(-50, 451, 50))\n",
    "\n",
    "plt.grid(True)\n",
    "plt.tight_layout()\n",
    "plt.show()"
   ]
  },
  {
   "cell_type": "markdown",
   "id": "0f65b964",
   "metadata": {},
   "source": [
    "<hr>\n",
    "\n",
    "## 4. PREPROCESSING & PIPELINE"
   ]
  },
  {
   "cell_type": "markdown",
   "id": "3b7de433",
   "metadata": {},
   "source": [
    "### Label Encoding"
   ]
  },
  {
   "cell_type": "markdown",
   "id": "68e84f6a",
   "metadata": {},
   "source": [
    "* OneHotEncoder for df_2C's target variable y (with 2 classes)\n",
    "\n",
    "* LabelEncoder for df_3C's target variable y (with 3 classes)"
   ]
  },
  {
   "cell_type": "code",
   "execution_count": 43,
   "id": "07a1c466",
   "metadata": {},
   "outputs": [],
   "source": [
    "# Initialize Encoder\n",
    "oh_encoder = OneHotEncoder(sparse_output=False)\n",
    "lb_encoder = LabelEncoder()"
   ]
  },
  {
   "cell_type": "markdown",
   "id": "c6cb5705",
   "metadata": {},
   "source": [
    "#### df_2C"
   ]
  },
  {
   "cell_type": "code",
   "execution_count": 44,
   "id": "1a050e03",
   "metadata": {},
   "outputs": [
    {
     "data": {
      "text/plain": [
       "class_Abnormal\n",
       "1.0    210\n",
       "0.0    100\n",
       "Name: count, dtype: int64"
      ]
     },
     "metadata": {},
     "output_type": "display_data"
    },
    {
     "data": {
      "text/html": [
       "<div>\n",
       "<style scoped>\n",
       "    .dataframe tbody tr th:only-of-type {\n",
       "        vertical-align: middle;\n",
       "    }\n",
       "\n",
       "    .dataframe tbody tr th {\n",
       "        vertical-align: top;\n",
       "    }\n",
       "\n",
       "    .dataframe thead th {\n",
       "        text-align: right;\n",
       "    }\n",
       "</style>\n",
       "<table border=\"1\" class=\"dataframe\">\n",
       "  <thead>\n",
       "    <tr style=\"text-align: right;\">\n",
       "      <th></th>\n",
       "      <th>pelvic_incidence</th>\n",
       "      <th>pelvic_tilt</th>\n",
       "      <th>lumbar_lordosis_angle</th>\n",
       "      <th>sacral_slope</th>\n",
       "      <th>pelvic_radius</th>\n",
       "      <th>degree_spondylolisthesis</th>\n",
       "      <th>class_Abnormal</th>\n",
       "    </tr>\n",
       "  </thead>\n",
       "  <tbody>\n",
       "    <tr>\n",
       "      <th>0</th>\n",
       "      <td>63.027817</td>\n",
       "      <td>22.552586</td>\n",
       "      <td>39.609117</td>\n",
       "      <td>40.475232</td>\n",
       "      <td>98.672917</td>\n",
       "      <td>-0.254400</td>\n",
       "      <td>1.0</td>\n",
       "    </tr>\n",
       "    <tr>\n",
       "      <th>1</th>\n",
       "      <td>39.056951</td>\n",
       "      <td>10.060991</td>\n",
       "      <td>25.015378</td>\n",
       "      <td>28.995960</td>\n",
       "      <td>114.405425</td>\n",
       "      <td>4.564259</td>\n",
       "      <td>1.0</td>\n",
       "    </tr>\n",
       "    <tr>\n",
       "      <th>2</th>\n",
       "      <td>68.832021</td>\n",
       "      <td>22.218482</td>\n",
       "      <td>50.092194</td>\n",
       "      <td>46.613539</td>\n",
       "      <td>105.985135</td>\n",
       "      <td>-3.530317</td>\n",
       "      <td>1.0</td>\n",
       "    </tr>\n",
       "    <tr>\n",
       "      <th>3</th>\n",
       "      <td>69.297008</td>\n",
       "      <td>24.652878</td>\n",
       "      <td>44.311238</td>\n",
       "      <td>44.644130</td>\n",
       "      <td>101.868495</td>\n",
       "      <td>11.211523</td>\n",
       "      <td>1.0</td>\n",
       "    </tr>\n",
       "    <tr>\n",
       "      <th>4</th>\n",
       "      <td>49.712859</td>\n",
       "      <td>9.652075</td>\n",
       "      <td>28.317406</td>\n",
       "      <td>40.060784</td>\n",
       "      <td>108.168725</td>\n",
       "      <td>7.918501</td>\n",
       "      <td>1.0</td>\n",
       "    </tr>\n",
       "  </tbody>\n",
       "</table>\n",
       "</div>"
      ],
      "text/plain": [
       "   pelvic_incidence  pelvic_tilt  lumbar_lordosis_angle  sacral_slope  \\\n",
       "0         63.027817    22.552586              39.609117     40.475232   \n",
       "1         39.056951    10.060991              25.015378     28.995960   \n",
       "2         68.832021    22.218482              50.092194     46.613539   \n",
       "3         69.297008    24.652878              44.311238     44.644130   \n",
       "4         49.712859     9.652075              28.317406     40.060784   \n",
       "\n",
       "   pelvic_radius  degree_spondylolisthesis  class_Abnormal  \n",
       "0      98.672917                 -0.254400             1.0  \n",
       "1     114.405425                  4.564259             1.0  \n",
       "2     105.985135                 -3.530317             1.0  \n",
       "3     101.868495                 11.211523             1.0  \n",
       "4     108.168725                  7.918501             1.0  "
      ]
     },
     "metadata": {},
     "output_type": "display_data"
    }
   ],
   "source": [
    "# Make a copy to reserve original data\n",
    "df_2C_encoded = df_2C.copy()\n",
    "\n",
    "# Apply OneHot encoder to 'class' and transform to an array\n",
    "encoded_array_2C = oh_encoder.fit_transform(df_2C_encoded[['class']])\n",
    "# Create a dataframe from the encoded array\n",
    "encoded_df_2C = pd.DataFrame(encoded_array_2C, columns=oh_encoder.get_feature_names_out(['class']))\n",
    "# Concatenate the encoded dataframe with the original dataframe\n",
    "df_2C_encoded = pd.concat([df_2C_encoded, encoded_df_2C], axis=1)\n",
    "# Drop the original 'class', and 'class_Normal' column\n",
    "df_2C_encoded.drop(['class','class_Normal'], axis=1, inplace=True)\n",
    "\n",
    "# Value Counts:\n",
    "display(df_2C_encoded['class_Abnormal'].value_counts().sort_index(ascending=False))\n",
    "\n",
    "display(df_2C_encoded.head())"
   ]
  },
  {
   "cell_type": "markdown",
   "id": "8074c7b1",
   "metadata": {},
   "source": [
    "#### df_3C"
   ]
  },
  {
   "cell_type": "code",
   "execution_count": 45,
   "id": "aef182b7",
   "metadata": {},
   "outputs": [
    {
     "data": {
      "text/plain": [
       "class\n",
       "2    150\n",
       "1     60\n",
       "0    100\n",
       "Name: count, dtype: int64"
      ]
     },
     "metadata": {},
     "output_type": "display_data"
    },
    {
     "data": {
      "text/html": [
       "<div>\n",
       "<style scoped>\n",
       "    .dataframe tbody tr th:only-of-type {\n",
       "        vertical-align: middle;\n",
       "    }\n",
       "\n",
       "    .dataframe tbody tr th {\n",
       "        vertical-align: top;\n",
       "    }\n",
       "\n",
       "    .dataframe thead th {\n",
       "        text-align: right;\n",
       "    }\n",
       "</style>\n",
       "<table border=\"1\" class=\"dataframe\">\n",
       "  <thead>\n",
       "    <tr style=\"text-align: right;\">\n",
       "      <th></th>\n",
       "      <th>pelvic_incidence</th>\n",
       "      <th>pelvic_tilt</th>\n",
       "      <th>lumbar_lordosis_angle</th>\n",
       "      <th>sacral_slope</th>\n",
       "      <th>pelvic_radius</th>\n",
       "      <th>degree_spondylolisthesis</th>\n",
       "      <th>class</th>\n",
       "    </tr>\n",
       "  </thead>\n",
       "  <tbody>\n",
       "    <tr>\n",
       "      <th>0</th>\n",
       "      <td>63.027817</td>\n",
       "      <td>22.552586</td>\n",
       "      <td>39.609117</td>\n",
       "      <td>40.475232</td>\n",
       "      <td>98.672917</td>\n",
       "      <td>-0.254400</td>\n",
       "      <td>1</td>\n",
       "    </tr>\n",
       "    <tr>\n",
       "      <th>1</th>\n",
       "      <td>39.056951</td>\n",
       "      <td>10.060991</td>\n",
       "      <td>25.015378</td>\n",
       "      <td>28.995960</td>\n",
       "      <td>114.405425</td>\n",
       "      <td>4.564259</td>\n",
       "      <td>1</td>\n",
       "    </tr>\n",
       "    <tr>\n",
       "      <th>2</th>\n",
       "      <td>68.832021</td>\n",
       "      <td>22.218482</td>\n",
       "      <td>50.092194</td>\n",
       "      <td>46.613539</td>\n",
       "      <td>105.985135</td>\n",
       "      <td>-3.530317</td>\n",
       "      <td>1</td>\n",
       "    </tr>\n",
       "    <tr>\n",
       "      <th>3</th>\n",
       "      <td>69.297008</td>\n",
       "      <td>24.652878</td>\n",
       "      <td>44.311238</td>\n",
       "      <td>44.644130</td>\n",
       "      <td>101.868495</td>\n",
       "      <td>11.211523</td>\n",
       "      <td>1</td>\n",
       "    </tr>\n",
       "    <tr>\n",
       "      <th>4</th>\n",
       "      <td>49.712859</td>\n",
       "      <td>9.652075</td>\n",
       "      <td>28.317406</td>\n",
       "      <td>40.060784</td>\n",
       "      <td>108.168725</td>\n",
       "      <td>7.918501</td>\n",
       "      <td>1</td>\n",
       "    </tr>\n",
       "  </tbody>\n",
       "</table>\n",
       "</div>"
      ],
      "text/plain": [
       "   pelvic_incidence  pelvic_tilt  lumbar_lordosis_angle  sacral_slope  \\\n",
       "0         63.027817    22.552586              39.609117     40.475232   \n",
       "1         39.056951    10.060991              25.015378     28.995960   \n",
       "2         68.832021    22.218482              50.092194     46.613539   \n",
       "3         69.297008    24.652878              44.311238     44.644130   \n",
       "4         49.712859     9.652075              28.317406     40.060784   \n",
       "\n",
       "   pelvic_radius  degree_spondylolisthesis  class  \n",
       "0      98.672917                 -0.254400      1  \n",
       "1     114.405425                  4.564259      1  \n",
       "2     105.985135                 -3.530317      1  \n",
       "3     101.868495                 11.211523      1  \n",
       "4     108.168725                  7.918501      1  "
      ]
     },
     "metadata": {},
     "output_type": "display_data"
    }
   ],
   "source": [
    "# Make a copy to reserve original data\n",
    "df_3C_encoded = df_3C.copy()\n",
    "\n",
    "# Custom classes: 'Normal'=0, 'Hernia'=1, 'Spondylolisthesis'=2\n",
    "custom_classes = ['Normal', 'Hernia', 'Spondylolisthesis']\n",
    "# Force custom order\n",
    "lb_encoder.classes_ = np.array(custom_classes)\n",
    "# Transform using the custom order\n",
    "df_3C_encoded['class'] = lb_encoder.transform(df_3C_encoded['class'])\n",
    "\n",
    "# Value Counts:\n",
    "display(df_3C_encoded['class'].value_counts().sort_index(ascending=False))\n",
    "\n",
    "display(df_3C_encoded.head())"
   ]
  },
  {
   "cell_type": "markdown",
   "id": "e1c6fc5b",
   "metadata": {},
   "source": [
    "### Feature Scaling"
   ]
  },
  {
   "cell_type": "code",
   "execution_count": 46,
   "id": "f177e3f8",
   "metadata": {},
   "outputs": [],
   "source": [
    "X_unscaled = df_2C_encoded.iloc[:, :6]"
   ]
  },
  {
   "cell_type": "code",
   "execution_count": 47,
   "id": "5f04b281",
   "metadata": {},
   "outputs": [],
   "source": [
    "# Initate scaler:\n",
    "scaler = StandardScaler()"
   ]
  },
  {
   "cell_type": "code",
   "execution_count": 48,
   "id": "1e782f2c",
   "metadata": {},
   "outputs": [],
   "source": [
    "numerical_cols = X_unscaled.columns.tolist()\n",
    "\n",
    "preprocessor = ColumnTransformer(\n",
    "    transformers=[\n",
    "        ('num', scaler, numerical_cols)\n",
    "    ],\n",
    "    remainder='passthrough'\n",
    ")"
   ]
  },
  {
   "cell_type": "markdown",
   "id": "f9fd82e0",
   "metadata": {},
   "source": [
    "### Pipeline"
   ]
  },
  {
   "cell_type": "markdown",
   "id": "4869160e",
   "metadata": {},
   "source": [
    "#### Four pipelines\n",
    "- RandomForest Model\n",
    "    - df_2C\n",
    "    - df_3C\n",
    "- DecisionTree Model\n",
    "    - df_2C\n",
    "    - df_3C\n",
    "- Naive Bayes Model\n",
    "    - df_2C\n",
    "    - df_3C"
   ]
  },
  {
   "cell_type": "code",
   "execution_count": 49,
   "id": "2d40cb2d",
   "metadata": {},
   "outputs": [],
   "source": [
    "# Classifying objects:\n",
    "rf_classifier = RandomForestClassifier(random_state=42)\n",
    "dt_classifier = DecisionTreeClassifier(random_state=42)\n",
    "nb_classifier = GaussianNB()"
   ]
  },
  {
   "cell_type": "markdown",
   "id": "5de180a2",
   "metadata": {},
   "source": [
    "##### RandomForest model pipeline for df_2C"
   ]
  },
  {
   "cell_type": "code",
   "execution_count": 50,
   "id": "0de68dbb",
   "metadata": {},
   "outputs": [],
   "source": [
    "rf_pipeline_2C = Pipeline([\n",
    "    ('classifier', clone(rf_classifier))\n",
    "])"
   ]
  },
  {
   "cell_type": "markdown",
   "id": "6e77d0cf",
   "metadata": {},
   "source": [
    "##### RandomForest model pipeline for df_3C"
   ]
  },
  {
   "cell_type": "code",
   "execution_count": 51,
   "id": "32cb5287",
   "metadata": {},
   "outputs": [],
   "source": [
    "rf_pipeline_3C = Pipeline([\n",
    "    ('classifier', clone(rf_classifier))\n",
    "])"
   ]
  },
  {
   "cell_type": "markdown",
   "id": "525cdbbe",
   "metadata": {},
   "source": [
    "##### DecisionTree model pipeline for df_2C"
   ]
  },
  {
   "cell_type": "code",
   "execution_count": 52,
   "id": "91e21c2d",
   "metadata": {},
   "outputs": [],
   "source": [
    "dt_pipeline_2C = Pipeline([\n",
    "    ('classifier', clone(dt_classifier))\n",
    "])"
   ]
  },
  {
   "cell_type": "markdown",
   "id": "ece6c0d8",
   "metadata": {},
   "source": [
    "##### DecisionTree model pipeline for df_3C"
   ]
  },
  {
   "cell_type": "code",
   "execution_count": 53,
   "id": "4c05f978",
   "metadata": {},
   "outputs": [],
   "source": [
    "dt_pipeline_3C = Pipeline([\n",
    "    ('classifier', clone(dt_classifier))\n",
    "])"
   ]
  },
  {
   "cell_type": "markdown",
   "id": "fef9b24a",
   "metadata": {},
   "source": [
    "##### Naive Bayes model pipeline for df_2C"
   ]
  },
  {
   "cell_type": "code",
   "execution_count": 54,
   "id": "08420e56",
   "metadata": {},
   "outputs": [],
   "source": [
    "nb_pipeline_2C = Pipeline([\n",
    "    ('preprocessor', preprocessor), \n",
    "    ('classifier', clone(nb_classifier))\n",
    "])"
   ]
  },
  {
   "cell_type": "markdown",
   "id": "517f8d77",
   "metadata": {},
   "source": [
    "##### Naive Bayes model pipeline for df_3C"
   ]
  },
  {
   "cell_type": "code",
   "execution_count": 55,
   "id": "6bc4f54e",
   "metadata": {},
   "outputs": [],
   "source": [
    "nb_pipeline_3C = Pipeline([\n",
    "    ('preprocessor', preprocessor), \n",
    "    ('classifier', clone(nb_classifier))\n",
    "])"
   ]
  },
  {
   "cell_type": "markdown",
   "id": "43c95084",
   "metadata": {},
   "source": [
    "### Splitting"
   ]
  },
  {
   "cell_type": "code",
   "execution_count": 56,
   "id": "3484e628",
   "metadata": {},
   "outputs": [
    {
     "name": "stdout",
     "output_type": "stream",
     "text": [
      "(248, 6) (248,) (62, 6) (62,)\n",
      "(248, 6) (248,) (62, 6) (62,)\n"
     ]
    }
   ],
   "source": [
    "y_2C = df_2C_encoded['class_Abnormal']\n",
    "y_3C = df_3C_encoded['class']\n",
    "\n",
    "X_train_2C, X_test_2C, y_train_2C, y_test_2C = train_test_split(X_unscaled, y_2C, test_size=0.2, random_state=28, stratify=y_2C)\n",
    "print(X_train_2C.shape, y_train_2C.shape, X_test_2C.shape, y_test_2C.shape)\n",
    "\n",
    "X_train_3C, X_test_3C, y_train_3C, y_test_3C = train_test_split(X_unscaled, y_3C, test_size=0.2, random_state=82, stratify=y_3C)\n",
    "print(X_train_3C.shape, y_train_3C.shape, X_test_3C.shape, y_test_3C.shape)"
   ]
  },
  {
   "cell_type": "markdown",
   "id": "9270a1c8",
   "metadata": {},
   "source": [
    "<hr>\n",
    "\n",
    "## 5. MODEL PREDICTION & EVALUATION"
   ]
  },
  {
   "cell_type": "markdown",
   "id": "46966cf9",
   "metadata": {},
   "source": [
    "### RandomForest Model"
   ]
  },
  {
   "cell_type": "markdown",
   "id": "27914ab3",
   "metadata": {},
   "source": [
    "#### df_2C"
   ]
  },
  {
   "cell_type": "code",
   "execution_count": 57,
   "id": "a3970076",
   "metadata": {},
   "outputs": [
    {
     "data": {
      "text/plain": [
       "0.8064516129032258"
      ]
     },
     "execution_count": 57,
     "metadata": {},
     "output_type": "execute_result"
    }
   ],
   "source": [
    "rf_pipeline_2C.fit(X_train_2C, y_train_2C)\n",
    "y_pred_rf_2C = rf_pipeline_2C.predict(X_test_2C)\n",
    "accuracy_score(y_test_2C, y_pred_rf_2C)"
   ]
  },
  {
   "cell_type": "markdown",
   "id": "440ef168",
   "metadata": {},
   "source": [
    "#### df_3C"
   ]
  },
  {
   "cell_type": "code",
   "execution_count": 58,
   "id": "5387fb43",
   "metadata": {},
   "outputs": [
    {
     "data": {
      "text/plain": [
       "0.8225806451612904"
      ]
     },
     "execution_count": 58,
     "metadata": {},
     "output_type": "execute_result"
    }
   ],
   "source": [
    "rf_pipeline_3C.fit(X_train_3C, y_train_3C)\n",
    "y_pred_rf_3C = rf_pipeline_3C.predict(X_test_3C)\n",
    "accuracy_score(y_test_3C, y_pred_rf_3C)"
   ]
  },
  {
   "cell_type": "markdown",
   "id": "73e016e6",
   "metadata": {},
   "source": [
    "### DecisionTree Model"
   ]
  },
  {
   "cell_type": "markdown",
   "id": "3af03795",
   "metadata": {},
   "source": [
    "#### df_2C"
   ]
  },
  {
   "cell_type": "code",
   "execution_count": 59,
   "id": "cef4b107",
   "metadata": {},
   "outputs": [
    {
     "data": {
      "text/plain": [
       "0.7419354838709677"
      ]
     },
     "execution_count": 59,
     "metadata": {},
     "output_type": "execute_result"
    }
   ],
   "source": [
    "dt_pipeline_2C.fit(X_train_2C, y_train_2C)\n",
    "y_pred_dt_2C = dt_pipeline_2C.predict(X_test_2C)\n",
    "accuracy_score(y_test_2C, y_pred_dt_2C)"
   ]
  },
  {
   "cell_type": "markdown",
   "id": "ba3ab11b",
   "metadata": {},
   "source": [
    "#### df_3C"
   ]
  },
  {
   "cell_type": "code",
   "execution_count": 60,
   "id": "b9035cc9",
   "metadata": {},
   "outputs": [
    {
     "data": {
      "text/plain": [
       "0.7258064516129032"
      ]
     },
     "execution_count": 60,
     "metadata": {},
     "output_type": "execute_result"
    }
   ],
   "source": [
    "dt_pipeline_3C.fit(X_train_3C, y_train_3C)\n",
    "y_pred_dt_3C = dt_pipeline_3C.predict(X_test_3C)\n",
    "accuracy_score(y_test_3C, y_pred_dt_3C)"
   ]
  },
  {
   "cell_type": "markdown",
   "id": "936e141a",
   "metadata": {},
   "source": [
    "### Gaussian Naive Bayes Model"
   ]
  },
  {
   "cell_type": "markdown",
   "id": "83068aa2",
   "metadata": {},
   "source": [
    "#### df_2C"
   ]
  },
  {
   "cell_type": "code",
   "execution_count": 61,
   "id": "6253b26e",
   "metadata": {},
   "outputs": [
    {
     "data": {
      "text/plain": [
       "0.7258064516129032"
      ]
     },
     "execution_count": 61,
     "metadata": {},
     "output_type": "execute_result"
    }
   ],
   "source": [
    "nb_pipeline_2C.fit(X_train_2C, y_train_2C)\n",
    "y_pred_nb_2C = nb_pipeline_2C.predict(X_test_2C)\n",
    "accuracy_score(y_test_2C, y_pred_nb_2C)"
   ]
  },
  {
   "cell_type": "markdown",
   "id": "94fa164f",
   "metadata": {},
   "source": [
    "#### df_3C"
   ]
  },
  {
   "cell_type": "code",
   "execution_count": 62,
   "id": "da029151",
   "metadata": {},
   "outputs": [
    {
     "data": {
      "text/plain": [
       "0.8870967741935484"
      ]
     },
     "execution_count": 62,
     "metadata": {},
     "output_type": "execute_result"
    }
   ],
   "source": [
    "nb_pipeline_3C.fit(X_train_3C, y_train_3C)\n",
    "y_pred_nb_3C = nb_pipeline_3C.predict(X_test_3C)\n",
    "accuracy_score(y_test_3C, y_pred_nb_3C)"
   ]
  },
  {
   "cell_type": "markdown",
   "id": "729e7d51",
   "metadata": {},
   "source": [
    "<hr>\n",
    "\n",
    "## 6. MODEL COMPARISON"
   ]
  },
  {
   "cell_type": "code",
   "execution_count": 91,
   "id": "db2d6854",
   "metadata": {},
   "outputs": [
    {
     "name": "stdout",
     "output_type": "stream",
     "text": [
      "\n",
      "df_2C\n",
      "Random Forest\n",
      "Accuracy: 0.8065, Precision: 0.8409, Recall: 0.8810, F1 Score: 0.8605\n",
      "Report:               precision    recall  f1-score   support\n",
      "\n",
      "         0.0       0.72      0.65      0.68        20\n",
      "         1.0       0.84      0.88      0.86        42\n",
      "\n",
      "    accuracy                           0.81        62\n",
      "   macro avg       0.78      0.77      0.77        62\n",
      "weighted avg       0.80      0.81      0.80        62\n",
      "\n"
     ]
    },
    {
     "data": {
      "image/png": "[encoded data removed]",
      "text/plain": [
       "<Figure size 300x300 with 2 Axes>"
      ]
     },
     "metadata": {},
     "output_type": "display_data"
    },
    {
     "name": "stdout",
     "output_type": "stream",
     "text": [
      "Decision Tree\n",
      "Accuracy: 0.7419, Precision: 0.8095, Recall: 0.8095, F1 Score: 0.8095\n",
      "Report:               precision    recall  f1-score   support\n",
      "\n",
      "         0.0       0.60      0.60      0.60        20\n",
      "         1.0       0.81      0.81      0.81        42\n",
      "\n",
      "    accuracy                           0.74        62\n",
      "   macro avg       0.70      0.70      0.70        62\n",
      "weighted avg       0.74      0.74      0.74        62\n",
      "\n"
     ]
    },
    {
     "data": {
      "image/png": "[encoded data removed]",
      "text/plain": [
       "<Figure size 300x300 with 2 Axes>"
      ]
     },
     "metadata": {},
     "output_type": "display_data"
    },
    {
     "name": "stdout",
     "output_type": "stream",
     "text": [
      "Naive Bayes\n",
      "Accuracy: 0.7258, Precision: 0.8571, Recall: 0.7143, F1 Score: 0.7792\n",
      "Report:               precision    recall  f1-score   support\n",
      "\n",
      "         0.0       0.56      0.75      0.64        20\n",
      "         1.0       0.86      0.71      0.78        42\n",
      "\n",
      "    accuracy                           0.73        62\n",
      "   macro avg       0.71      0.73      0.71        62\n",
      "weighted avg       0.76      0.73      0.73        62\n",
      "\n"
     ]
    },
    {
     "data": {
      "image/png": "[encoded data removed]",
      "text/plain": [
       "<Figure size 300x300 with 2 Axes>"
      ]
     },
     "metadata": {},
     "output_type": "display_data"
    }
   ],
   "source": [
    "print(\"\\ndf_2C\")\n",
    "for model, y_pred, y_test in zip(\n",
    "    ['Random Forest', 'Decision Tree', 'Naive Bayes'],\n",
    "    [y_pred_rf_2C, y_pred_dt_2C, y_pred_nb_2C],\n",
    "    [y_test_2C, y_test_2C, y_test_2C]\n",
    "):\n",
    "    print(f\"{model}\\nAccuracy: {accuracy_score(y_test, y_pred):.4f}, \"\n",
    "          f\"Precision: {precision_score(y_test, y_pred):.4f}, \"\n",
    "          f\"Recall: {recall_score(y_test, y_pred):.4f}, \"\n",
    "          f\"F1 Score: {f1_score(y_test, y_pred):.4f}\"\n",
    "          f\"\\nReport: {classification_report(y_test, y_pred)}\")\n",
    "    disp = ConfusionMatrixDisplay(confusion_matrix=confusion_matrix(y_test, y_pred))\n",
    "    fig, ax = plt.subplots(figsize=(3, 3))\n",
    "    disp.plot(ax=ax, cmap='Blues', values_format='d')\n",
    "    ax.set_title(f\"{model} CM\")\n",
    "    plt.grid(False)\n",
    "    plt.show()\n",
    "    \n",
    "    "
   ]
  },
  {
   "cell_type": "code",
   "execution_count": 65,
   "id": "335acde8",
   "metadata": {},
   "outputs": [
    {
     "name": "stdout",
     "output_type": "stream",
     "text": [
      "\n",
      "df_3C\n",
      "Random Forest - Accuracy: 0.8226, Precision: 0.8213, Recall: 0.8226, F1 Score: 0.8216\n",
      "Decision Tree - Accuracy: 0.7258, Precision: 0.7609, Recall: 0.7258, F1 Score: 0.7391\n",
      "Naive Bayes - Accuracy: 0.8871, Precision: 0.8836, Recall: 0.8871, F1 Score: 0.8844\n"
     ]
    }
   ],
   "source": [
    "print(\"\\ndf_3C\")\n",
    "for model, y_pred, y_test in zip(\n",
    "    ['Random Forest', 'Decision Tree', 'Naive Bayes'],\n",
    "    [y_pred_rf_3C, y_pred_dt_3C, y_pred_nb_3C],\n",
    "    [y_test_3C, y_test_3C, y_test_3C]\n",
    "):\n",
    "    print(f\"{model} - Accuracy: {accuracy_score(y_test, y_pred):.4f}, \"\n",
    "          f\"Precision: {precision_score(y_test, y_pred, average='weighted'):.4f}, \"\n",
    "          f\"Recall: {recall_score(y_test, y_pred, average='weighted'):.4f}, \"\n",
    "          f\"F1 Score: {f1_score(y_test, y_pred, average='weighted'):.4f}\")"
   ]
  },
  {
   "cell_type": "markdown",
   "id": "41460ece",
   "metadata": {},
   "source": [
    "<hr>\n",
    "\n",
    "## 7. CONCLUSION"
   ]
  },
  {
   "cell_type": "code",
   "execution_count": null,
   "id": "63a5f3a7",
   "metadata": {},
   "outputs": [],
   "source": []
  }
 ],
 "metadata": {
  "kernelspec": {
   "display_name": "myenv",
   "language": "python",
   "name": "python3"
  },
  "language_info": {
   "codemirror_mode": {
    "name": "ipython",
    "version": 3
   },
   "file_extension": ".py",
   "mimetype": "text/x-python",
   "name": "python",
   "nbconvert_exporter": "python",
   "pygments_lexer": "ipython3",
   "version": "3.9.6"
  }
 },
 "nbformat": 4,
 "nbformat_minor": 5
}
