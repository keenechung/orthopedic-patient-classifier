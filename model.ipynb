{
 "cells": [
  {
   "cell_type": "markdown",
   "id": "226007f9",
   "metadata": {},
   "source": [
    "# orthopedic-patient-classifier"
   ]
  },
  {
   "cell_type": "markdown",
   "id": "b63e7f05",
   "metadata": {},
   "source": [
    "<hr>\n",
    "\n",
    "## TABLE OF CONTENTS\n",
    "\n",
    "1. Packages\n",
    "\n",
    "2. Datasets\n",
    "\n",
    "3. Exploratory Data Analysis (EDA) & Data Visualization\n",
    "\n",
    "4. Data Preparation & Preprocessing\n",
    "\n",
    "5. Build & Evaluate Machine Learning Models\n",
    "\n",
    "6. Model Comparation\n",
    "\n",
    "7. Conclusion"
   ]
  },
  {
   "cell_type": "markdown",
   "id": "2f6dfbf4",
   "metadata": {},
   "source": [
    "<hr>\n",
    "\n",
    "## 1. PACKAGES"
   ]
  },
  {
   "cell_type": "code",
   "execution_count": 5,
   "id": "6bde9676",
   "metadata": {},
   "outputs": [],
   "source": [
    "# Essential libraries:\n",
    "\n",
    "import pandas as pd\n",
    "import numpy as np\n",
    "import matplotlib.pyplot as plt\n",
    "import seaborn as sns"
   ]
  },
  {
   "cell_type": "code",
   "execution_count": 7,
   "id": "1b1e3432",
   "metadata": {},
   "outputs": [],
   "source": [
    "# Machine learning libraries:\n",
    "\n",
    "# model selection:\n",
    "from sklearn.model_selection import train_test_split\n",
    "from sklearn.model_selection import GridSearchCV\n",
    "from sklearn.model_selection import RandomizedSearchCV\n",
    "\n",
    "# preprocessing:\n",
    "from sklearn.preprocessing import StandardScaler\n",
    "from sklearn.preprocessing import MinMaxScaler\n",
    "from sklearn.preprocessing import RobustScaler\n",
    "from sklearn.preprocessing import OneHotEncoder\n",
    "from sklearn.preprocessing import LabelEncoder\n",
    "from sklearn.preprocessing import OrdinalEncoder\n",
    "\n",
    "# models:\n",
    "from sklearn.tree import DecisionTreeClassifier\n",
    "from sklearn.naive_bayes import GaussianNB\n",
    "\n",
    "# metrics:\n",
    "from sklearn.metrics import accuracy_score, precision_score, recall_score, f1_score\n",
    "from sklearn.metrics import roc_auc_score, roc_curve, mean_squared_error\n",
    "from sklearn.metrics import classification_report, confusion_matrix, ConfusionMatrixDisplay"
   ]
  },
  {
   "cell_type": "markdown",
   "id": "a13c670e",
   "metadata": {},
   "source": [
    "<hr>\n",
    "\n",
    "## 2. DATASETS"
   ]
  },
  {
   "cell_type": "code",
   "execution_count": null,
   "id": "881deb3c",
   "metadata": {},
   "outputs": [],
   "source": []
  },
  {
   "cell_type": "markdown",
   "id": "69f333ad",
   "metadata": {},
   "source": [
    "<hr>\n",
    "\n",
    "## 3. EXPLORATORY DATA ANALYSIS (EDA) & DATA VISUALIZATION"
   ]
  },
  {
   "cell_type": "code",
   "execution_count": null,
   "id": "d782e87d",
   "metadata": {},
   "outputs": [],
   "source": []
  },
  {
   "cell_type": "markdown",
   "id": "0f65b964",
   "metadata": {},
   "source": [
    "<hr>\n",
    "\n",
    "## 4. DATA PREPARATION & PREPROCESSING"
   ]
  },
  {
   "cell_type": "code",
   "execution_count": null,
   "id": "2c4acc2b",
   "metadata": {},
   "outputs": [],
   "source": []
  },
  {
   "cell_type": "markdown",
   "id": "9270a1c8",
   "metadata": {},
   "source": [
    "<hr>\n",
    "\n",
    "## 5. BUILD & EVALUATE MACHINE LEARNING MODELS"
   ]
  },
  {
   "cell_type": "code",
   "execution_count": null,
   "id": "4441c0a4",
   "metadata": {},
   "outputs": [],
   "source": []
  },
  {
   "cell_type": "markdown",
   "id": "729e7d51",
   "metadata": {},
   "source": [
    "<hr>\n",
    "\n",
    "## 6. MODEL COMPARISON"
   ]
  },
  {
   "cell_type": "code",
   "execution_count": null,
   "id": "7a3e9ea7",
   "metadata": {},
   "outputs": [],
   "source": []
  },
  {
   "cell_type": "markdown",
   "id": "41460ece",
   "metadata": {},
   "source": [
    "<hr>\n",
    "\n",
    "## 7. CONCLUSION"
   ]
  },
  {
   "cell_type": "code",
   "execution_count": null,
   "id": "63a5f3a7",
   "metadata": {},
   "outputs": [],
   "source": []
  }
 ],
 "metadata": {
  "kernelspec": {
   "display_name": "myenv",
   "language": "python",
   "name": "python3"
  },
  "language_info": {
   "codemirror_mode": {
    "name": "ipython",
    "version": 3
   },
   "file_extension": ".py",
   "mimetype": "text/x-python",
   "name": "python",
   "nbconvert_exporter": "python",
   "pygments_lexer": "ipython3",
   "version": "3.9.6"
  }
 },
 "nbformat": 4,
 "nbformat_minor": 5
}
