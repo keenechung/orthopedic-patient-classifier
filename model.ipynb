{
 "cells": [
  {
   "cell_type": "markdown",
   "id": "226007f9",
   "metadata": {},
   "source": [
    "# orthopedic-patient-classifier"
   ]
  },
  {
   "cell_type": "markdown",
   "id": "b63e7f05",
   "metadata": {},
   "source": [
    "<hr>\n",
    "\n",
    "## Table of Contents\n",
    "\n",
    "1. Packages\n",
    "\n",
    "2. Dataset\n",
    "\n",
    "3. Exploratory Data Analysis (EDA)\n",
    "\n",
    "4. Data Preprocssing\n",
    "\n",
    "5. Machine Learning Model"
   ]
  },
  {
   "cell_type": "markdown",
   "id": "2f6dfbf4",
   "metadata": {},
   "source": [
    "<hr>\n",
    "\n",
    "## 1. PACKAGES"
   ]
  },
  {
   "cell_type": "markdown",
   "id": "a13c670e",
   "metadata": {},
   "source": [
    "<hr>\n",
    "\n",
    "## 1. DATASET"
   ]
  },
  {
   "cell_type": "markdown",
   "id": "69f333ad",
   "metadata": {},
   "source": [
    "<hr>\n",
    "\n",
    "## 1. EXPLORATORY DATA ANALYSIS (EDA)"
   ]
  },
  {
   "cell_type": "markdown",
   "id": "0f65b964",
   "metadata": {},
   "source": [
    "<hr>\n",
    "\n",
    "## 1. DATA PREPROCESSING"
   ]
  },
  {
   "cell_type": "markdown",
   "id": "9270a1c8",
   "metadata": {},
   "source": [
    "<hr>\n",
    "\n",
    "## 1. MACHINE LEARNING MODEL"
   ]
  },
  {
   "cell_type": "markdown",
   "id": "2a728eed",
   "metadata": {},
   "source": []
  }
 ],
 "metadata": {
  "language_info": {
   "name": "python"
  }
 },
 "nbformat": 4,
 "nbformat_minor": 5
}
